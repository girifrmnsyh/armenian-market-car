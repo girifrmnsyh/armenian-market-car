{
 "cells": [
  {
   "cell_type": "markdown",
   "id": "9a28948e",
   "metadata": {
    "slideshow": {
     "slide_type": "slide"
    }
   },
   "source": [
    "# import library & dataset"
   ]
  },
  {
   "cell_type": "code",
   "execution_count": 1,
   "id": "325c6081",
   "metadata": {
    "slideshow": {
     "slide_type": "subslide"
    }
   },
   "outputs": [],
   "source": [
    "# import library\n",
    "import numpy as np\n",
    "import pandas as pd\n",
    "import matplotlib.pyplot as plt\n",
    "import seaborn as sns\n",
    "import warnings\n",
    "warnings.filterwarnings('ignore')"
   ]
  },
  {
   "cell_type": "code",
   "execution_count": 2,
   "id": "d7c070bf",
   "metadata": {
    "slideshow": {
     "slide_type": "subslide"
    }
   },
   "outputs": [
    {
     "data": {
      "text/html": [
       "<div>\n",
       "<style scoped>\n",
       "    .dataframe tbody tr th:only-of-type {\n",
       "        vertical-align: middle;\n",
       "    }\n",
       "\n",
       "    .dataframe tbody tr th {\n",
       "        vertical-align: top;\n",
       "    }\n",
       "\n",
       "    .dataframe thead th {\n",
       "        text-align: right;\n",
       "    }\n",
       "</style>\n",
       "<table border=\"1\" class=\"dataframe\">\n",
       "  <thead>\n",
       "    <tr style=\"text-align: right;\">\n",
       "      <th></th>\n",
       "      <th>Car Name</th>\n",
       "      <th>Year</th>\n",
       "      <th>Region</th>\n",
       "      <th>FuelType</th>\n",
       "      <th>Mileage</th>\n",
       "      <th>Price</th>\n",
       "    </tr>\n",
       "  </thead>\n",
       "  <tbody>\n",
       "    <tr>\n",
       "      <th>0</th>\n",
       "      <td>Ford Transit</td>\n",
       "      <td>2002</td>\n",
       "      <td>Goris</td>\n",
       "      <td>Diesel</td>\n",
       "      <td>215000</td>\n",
       "      <td>12000</td>\n",
       "    </tr>\n",
       "    <tr>\n",
       "      <th>1</th>\n",
       "      <td>Ford Focus</td>\n",
       "      <td>2017</td>\n",
       "      <td>Ijevan</td>\n",
       "      <td>Gasoline</td>\n",
       "      <td>72000</td>\n",
       "      <td>11500</td>\n",
       "    </tr>\n",
       "    <tr>\n",
       "      <th>2</th>\n",
       "      <td>Opel Vectra</td>\n",
       "      <td>1998</td>\n",
       "      <td>Armavir</td>\n",
       "      <td>Gasoline</td>\n",
       "      <td>466000</td>\n",
       "      <td>4000</td>\n",
       "    </tr>\n",
       "    <tr>\n",
       "      <th>3</th>\n",
       "      <td>Mazda 6</td>\n",
       "      <td>2020</td>\n",
       "      <td>Nor Nork</td>\n",
       "      <td>Gasoline</td>\n",
       "      <td>100000</td>\n",
       "      <td>22000</td>\n",
       "    </tr>\n",
       "    <tr>\n",
       "      <th>4</th>\n",
       "      <td>Opel Vectra</td>\n",
       "      <td>1998</td>\n",
       "      <td>Armavir</td>\n",
       "      <td>Gasoline</td>\n",
       "      <td>318000</td>\n",
       "      <td>3500</td>\n",
       "    </tr>\n",
       "  </tbody>\n",
       "</table>\n",
       "</div>"
      ],
      "text/plain": [
       "       Car Name  Year    Region  FuelType  Mileage  Price\n",
       "0  Ford Transit  2002     Goris    Diesel   215000  12000\n",
       "1    Ford Focus  2017    Ijevan  Gasoline    72000  11500\n",
       "2   Opel Vectra  1998   Armavir  Gasoline   466000   4000\n",
       "3       Mazda 6  2020  Nor Nork  Gasoline   100000  22000\n",
       "4   Opel Vectra  1998   Armavir  Gasoline   318000   3500"
      ]
     },
     "execution_count": 2,
     "metadata": {},
     "output_type": "execute_result"
    }
   ],
   "source": [
    "# load dataset\n",
    "df = pd.read_csv('armenian_market_car.csv',sep=';')\n",
    "df.head()"
   ]
  },
  {
   "cell_type": "markdown",
   "id": "33c9a84c",
   "metadata": {
    "slideshow": {
     "slide_type": "slide"
    }
   },
   "source": [
    "# data understanding & visualization"
   ]
  },
  {
   "cell_type": "code",
   "execution_count": 3,
   "id": "5ed730c2",
   "metadata": {
    "slideshow": {
     "slide_type": "subslide"
    }
   },
   "outputs": [
    {
     "data": {
      "text/plain": [
       "(7995, 6)"
      ]
     },
     "execution_count": 3,
     "metadata": {},
     "output_type": "execute_result"
    }
   ],
   "source": [
    "# volume data\n",
    "df.shape"
   ]
  },
  {
   "cell_type": "code",
   "execution_count": 4,
   "id": "250b5f7a",
   "metadata": {
    "slideshow": {
     "slide_type": "subslide"
    }
   },
   "outputs": [
    {
     "name": "stdout",
     "output_type": "stream",
     "text": [
      "<class 'pandas.core.frame.DataFrame'>\n",
      "RangeIndex: 7995 entries, 0 to 7994\n",
      "Data columns (total 6 columns):\n",
      " #   Column    Non-Null Count  Dtype \n",
      "---  ------    --------------  ----- \n",
      " 0   Car Name  7995 non-null   object\n",
      " 1   Year      7995 non-null   int64 \n",
      " 2   Region    7995 non-null   object\n",
      " 3   FuelType  7995 non-null   object\n",
      " 4   Mileage   7995 non-null   int64 \n",
      " 5   Price     7995 non-null   int64 \n",
      "dtypes: int64(3), object(3)\n",
      "memory usage: 374.9+ KB\n"
     ]
    }
   ],
   "source": [
    "# basic information by dataset\n",
    "df.info()"
   ]
  },
  {
   "cell_type": "code",
   "execution_count": 5,
   "id": "e60a73ff",
   "metadata": {},
   "outputs": [
    {
     "data": {
      "text/plain": [
       "True"
      ]
     },
     "execution_count": 5,
     "metadata": {},
     "output_type": "execute_result"
    }
   ],
   "source": [
    "# check duplicated\n",
    "df.duplicated().any()"
   ]
  },
  {
   "cell_type": "code",
   "execution_count": 6,
   "id": "110f03ec",
   "metadata": {},
   "outputs": [
    {
     "data": {
      "text/html": [
       "<div>\n",
       "<style scoped>\n",
       "    .dataframe tbody tr th:only-of-type {\n",
       "        vertical-align: middle;\n",
       "    }\n",
       "\n",
       "    .dataframe tbody tr th {\n",
       "        vertical-align: top;\n",
       "    }\n",
       "\n",
       "    .dataframe thead th {\n",
       "        text-align: right;\n",
       "    }\n",
       "</style>\n",
       "<table border=\"1\" class=\"dataframe\">\n",
       "  <thead>\n",
       "    <tr style=\"text-align: right;\">\n",
       "      <th></th>\n",
       "      <th>Car Name</th>\n",
       "      <th>Year</th>\n",
       "      <th>Region</th>\n",
       "      <th>FuelType</th>\n",
       "      <th>Mileage</th>\n",
       "      <th>Price</th>\n",
       "    </tr>\n",
       "  </thead>\n",
       "  <tbody>\n",
       "    <tr>\n",
       "      <th>7296</th>\n",
       "      <td>BMW X5</td>\n",
       "      <td>2024</td>\n",
       "      <td>Germany</td>\n",
       "      <td>Diesel</td>\n",
       "      <td>10</td>\n",
       "      <td>40000</td>\n",
       "    </tr>\n",
       "    <tr>\n",
       "      <th>7345</th>\n",
       "      <td>BMW iX1</td>\n",
       "      <td>2024</td>\n",
       "      <td>Germany</td>\n",
       "      <td>Electric</td>\n",
       "      <td>10</td>\n",
       "      <td>35000</td>\n",
       "    </tr>\n",
       "    <tr>\n",
       "      <th>7346</th>\n",
       "      <td>BMW iX1</td>\n",
       "      <td>2024</td>\n",
       "      <td>Germany</td>\n",
       "      <td>Electric</td>\n",
       "      <td>10</td>\n",
       "      <td>35000</td>\n",
       "    </tr>\n",
       "    <tr>\n",
       "      <th>7347</th>\n",
       "      <td>BMW iX1</td>\n",
       "      <td>2024</td>\n",
       "      <td>Germany</td>\n",
       "      <td>Electric</td>\n",
       "      <td>10</td>\n",
       "      <td>35000</td>\n",
       "    </tr>\n",
       "    <tr>\n",
       "      <th>7376</th>\n",
       "      <td>Mercedes-Benz EQE AMG</td>\n",
       "      <td>2023</td>\n",
       "      <td>Germany</td>\n",
       "      <td>Electric</td>\n",
       "      <td>10</td>\n",
       "      <td>35000</td>\n",
       "    </tr>\n",
       "    <tr>\n",
       "      <th>7433</th>\n",
       "      <td>BMW iX1</td>\n",
       "      <td>2023</td>\n",
       "      <td>Germany</td>\n",
       "      <td>Electric</td>\n",
       "      <td>12000</td>\n",
       "      <td>32000</td>\n",
       "    </tr>\n",
       "    <tr>\n",
       "      <th>7497</th>\n",
       "      <td>Mercedes-Benz EQB</td>\n",
       "      <td>2023</td>\n",
       "      <td>Germany</td>\n",
       "      <td>Electric</td>\n",
       "      <td>6900</td>\n",
       "      <td>25000</td>\n",
       "    </tr>\n",
       "    <tr>\n",
       "      <th>7508</th>\n",
       "      <td>Mercedes-Benz EQA</td>\n",
       "      <td>2023</td>\n",
       "      <td>Germany</td>\n",
       "      <td>Electric</td>\n",
       "      <td>10</td>\n",
       "      <td>25000</td>\n",
       "    </tr>\n",
       "    <tr>\n",
       "      <th>7509</th>\n",
       "      <td>Mercedes-Benz EQA</td>\n",
       "      <td>2023</td>\n",
       "      <td>Germany</td>\n",
       "      <td>Electric</td>\n",
       "      <td>10</td>\n",
       "      <td>25000</td>\n",
       "    </tr>\n",
       "  </tbody>\n",
       "</table>\n",
       "</div>"
      ],
      "text/plain": [
       "                   Car Name  Year   Region  FuelType  Mileage  Price\n",
       "7296                 BMW X5  2024  Germany    Diesel       10  40000\n",
       "7345                BMW iX1  2024  Germany  Electric       10  35000\n",
       "7346                BMW iX1  2024  Germany  Electric       10  35000\n",
       "7347                BMW iX1  2024  Germany  Electric       10  35000\n",
       "7376  Mercedes-Benz EQE AMG  2023  Germany  Electric       10  35000\n",
       "7433                BMW iX1  2023  Germany  Electric    12000  32000\n",
       "7497      Mercedes-Benz EQB  2023  Germany  Electric     6900  25000\n",
       "7508      Mercedes-Benz EQA  2023  Germany  Electric       10  25000\n",
       "7509      Mercedes-Benz EQA  2023  Germany  Electric       10  25000"
      ]
     },
     "execution_count": 6,
     "metadata": {},
     "output_type": "execute_result"
    }
   ],
   "source": [
    "# see data duplicated\n",
    "df[df.duplicated()]"
   ]
  },
  {
   "cell_type": "code",
   "execution_count": 7,
   "id": "7ba76d3c",
   "metadata": {},
   "outputs": [],
   "source": [
    "# drop duplicates\n",
    "df = df.drop_duplicates()"
   ]
  },
  {
   "cell_type": "code",
   "execution_count": 8,
   "id": "e9de8bce",
   "metadata": {},
   "outputs": [
    {
     "data": {
      "text/html": [
       "<div>\n",
       "<style scoped>\n",
       "    .dataframe tbody tr th:only-of-type {\n",
       "        vertical-align: middle;\n",
       "    }\n",
       "\n",
       "    .dataframe tbody tr th {\n",
       "        vertical-align: top;\n",
       "    }\n",
       "\n",
       "    .dataframe thead th {\n",
       "        text-align: right;\n",
       "    }\n",
       "</style>\n",
       "<table border=\"1\" class=\"dataframe\">\n",
       "  <thead>\n",
       "    <tr style=\"text-align: right;\">\n",
       "      <th></th>\n",
       "      <th>Car Name</th>\n",
       "      <th>Year</th>\n",
       "      <th>Region</th>\n",
       "      <th>FuelType</th>\n",
       "      <th>Mileage</th>\n",
       "      <th>Price</th>\n",
       "    </tr>\n",
       "  </thead>\n",
       "  <tbody>\n",
       "  </tbody>\n",
       "</table>\n",
       "</div>"
      ],
      "text/plain": [
       "Empty DataFrame\n",
       "Columns: [Car Name, Year, Region, FuelType, Mileage, Price]\n",
       "Index: []"
      ]
     },
     "execution_count": 8,
     "metadata": {},
     "output_type": "execute_result"
    }
   ],
   "source": [
    "# doublue checking\n",
    "df[df.duplicated()] "
   ]
  },
  {
   "cell_type": "code",
   "execution_count": 9,
   "id": "0f43eefe",
   "metadata": {},
   "outputs": [
    {
     "data": {
      "text/plain": [
       "<AxesSubplot:>"
      ]
     },
     "execution_count": 9,
     "metadata": {},
     "output_type": "execute_result"
    },
    {
     "data": {
      "image/png": "[encoded data removed]",
      "text/plain": [
       "<Figure size 432x288 with 2 Axes>"
      ]
     },
     "metadata": {
      "needs_background": "light"
     },
     "output_type": "display_data"
    }
   ],
   "source": [
    "# visualize corelatiion of numerical colums\n",
    "sns.heatmap(df.corr(), annot=True, vmin=-1, vmax=1)"
   ]
  },
  {
   "cell_type": "code",
   "execution_count": 10,
   "id": "3460889f",
   "metadata": {},
   "outputs": [
    {
     "name": "stdout",
     "output_type": "stream",
     "text": [
      "This dataset starts begin 1943 to 2024\n"
     ]
    }
   ],
   "source": [
    "# range date of dataset\n",
    "print(f'This dataset starts begin {df[\"Year\"].min()} to {df[\"Year\"].max()}')"
   ]
  },
  {
   "cell_type": "code",
   "execution_count": 11,
   "id": "7604b61b",
   "metadata": {},
   "outputs": [],
   "source": [
    "# list for feature\n",
    "# we take colum that have correlation with label (Price)\n",
    "importand_colum = []"
   ]
  },
  {
   "cell_type": "code",
   "execution_count": 12,
   "id": "0f903cd8",
   "metadata": {},
   "outputs": [
    {
     "data": {
      "text/plain": [
       "Year\n",
       "1943     5500.000000\n",
       "1950     4700.000000\n",
       "1954    22000.000000\n",
       "1955    12666.666667\n",
       "1957    11600.000000\n",
       "Name: Price, dtype: float64"
      ]
     },
     "execution_count": 12,
     "metadata": {},
     "output_type": "execute_result"
    }
   ],
   "source": [
    "time_sell = df.groupby(['Year'])['Price'].mean()\n",
    "time_sell.head()"
   ]
  },
  {
   "cell_type": "code",
   "execution_count": 13,
   "id": "d70bf1b2",
   "metadata": {},
   "outputs": [
    {
     "data": {
      "image/png": "[encoded data removed]",
      "text/plain": [
       "<Figure size 432x288 with 1 Axes>"
      ]
     },
     "metadata": {
      "needs_background": "light"
     },
     "output_type": "display_data"
    }
   ],
   "source": [
    "# lineplot visualization\n",
    "sns.lineplot(x=time_sell.index, y=time_sell.values, color='red')\n",
    "plt.title('Average price by Year', fontsize=15)\n",
    "plt.ylabel('Average price')\n",
    "plt.show()"
   ]
  },
  {
   "cell_type": "code",
   "execution_count": 14,
   "id": "ad9b5878",
   "metadata": {},
   "outputs": [
    {
     "data": {
      "image/png": "[encoded data removed]",
      "text/plain": [
       "<Figure size 432x288 with 1 Axes>"
      ]
     },
     "metadata": {
      "needs_background": "light"
     },
     "output_type": "display_data"
    },
    {
     "data": {
      "image/png": "[encoded data removed]",
      "text/plain": [
       "<Figure size 432x288 with 1 Axes>"
      ]
     },
     "metadata": {
      "needs_background": "light"
     },
     "output_type": "display_data"
    }
   ],
   "source": [
    "# barplot visualization\n",
    "colum_categories = ['Region','FuelType']\n",
    "\n",
    "for col in colum_categories:\n",
    "    data = df.groupby([col])['Price'].mean().sort_values(ascending=False).head(10)\n",
    "    sns.barplot(x=data.values, y=data.index, color='red')\n",
    "    plt.title(f'{col} vs average price')\n",
    "    plt.xlabel('average price')\n",
    "    plt.show()"
   ]
  },
  {
   "cell_type": "code",
   "execution_count": 15,
   "id": "ffbc6504",
   "metadata": {},
   "outputs": [
    {
     "data": {
      "text/plain": [
       "195"
      ]
     },
     "execution_count": 15,
     "metadata": {},
     "output_type": "execute_result"
    }
   ],
   "source": [
    "# cheack count unique values of Region\n",
    "df['Region'].nunique()"
   ]
  },
  {
   "cell_type": "code",
   "execution_count": 16,
   "id": "2bc9d66e",
   "metadata": {},
   "outputs": [
    {
     "data": {
      "image/png": "[encoded data removed]",
      "text/plain": [
       "<Figure size 432x288 with 1 Axes>"
      ]
     },
     "metadata": {
      "needs_background": "light"
     },
     "output_type": "display_data"
    }
   ],
   "source": [
    "# revisualize colum Region for all values\n",
    "region_vs_avrgprice = df.groupby(['Region'])['Price'].mean().sort_values(ascending=False)\n",
    "\n",
    "sns.barplot(x=region_vs_avrgprice.values, y=region_vs_avrgprice.index, color='red')\n",
    "plt.title('Region vs average Price')\n",
    "plt.yticks([])\n",
    "plt.show()"
   ]
  },
  {
   "cell_type": "code",
   "execution_count": 17,
   "id": "a99aeb09",
   "metadata": {},
   "outputs": [],
   "source": [
    "# because colum FuelType & Region have correlation\n",
    "# we will place those in list importand_colum\n",
    "importand_colum.append('FuelType')\n",
    "importand_colum.append('Region')"
   ]
  },
  {
   "cell_type": "code",
   "execution_count": 18,
   "id": "55f6c2a7",
   "metadata": {},
   "outputs": [
    {
     "data": {
      "image/png": "[encoded data removed]",
      "text/plain": [
       "<Figure size 432x288 with 1 Axes>"
      ]
     },
     "metadata": {
      "needs_background": "light"
     },
     "output_type": "display_data"
    }
   ],
   "source": [
    "# scatterplot visuallization\n",
    "sns.scatterplot(x='Mileage',y='Price', data=df, color='red')\n",
    "plt.title('Mileage vs Pirce',fontsize=15)\n",
    "plt.show()"
   ]
  },
  {
   "cell_type": "code",
   "execution_count": 19,
   "id": "4dc9ce93",
   "metadata": {},
   "outputs": [],
   "source": [
    "# we will palce this colum too\n",
    "importand_colum.append('Mileage')"
   ]
  },
  {
   "cell_type": "markdown",
   "id": "94913f5a",
   "metadata": {},
   "source": [
    "# data preprocessing"
   ]
  },
  {
   "cell_type": "code",
   "execution_count": 20,
   "id": "a706a765",
   "metadata": {},
   "outputs": [
    {
     "data": {
      "text/html": [
       "<div>\n",
       "<style scoped>\n",
       "    .dataframe tbody tr th:only-of-type {\n",
       "        vertical-align: middle;\n",
       "    }\n",
       "\n",
       "    .dataframe tbody tr th {\n",
       "        vertical-align: top;\n",
       "    }\n",
       "\n",
       "    .dataframe thead th {\n",
       "        text-align: right;\n",
       "    }\n",
       "</style>\n",
       "<table border=\"1\" class=\"dataframe\">\n",
       "  <thead>\n",
       "    <tr style=\"text-align: right;\">\n",
       "      <th></th>\n",
       "      <th>Car Name</th>\n",
       "      <th>Year</th>\n",
       "      <th>Region</th>\n",
       "      <th>FuelType</th>\n",
       "      <th>Mileage</th>\n",
       "      <th>Price</th>\n",
       "    </tr>\n",
       "  </thead>\n",
       "  <tbody>\n",
       "    <tr>\n",
       "      <th>0</th>\n",
       "      <td>Ford Transit</td>\n",
       "      <td>2002</td>\n",
       "      <td>Goris</td>\n",
       "      <td>Diesel</td>\n",
       "      <td>215000</td>\n",
       "      <td>12000</td>\n",
       "    </tr>\n",
       "    <tr>\n",
       "      <th>1</th>\n",
       "      <td>Ford Focus</td>\n",
       "      <td>2017</td>\n",
       "      <td>Ijevan</td>\n",
       "      <td>Gasoline</td>\n",
       "      <td>72000</td>\n",
       "      <td>11500</td>\n",
       "    </tr>\n",
       "    <tr>\n",
       "      <th>2</th>\n",
       "      <td>Opel Vectra</td>\n",
       "      <td>1998</td>\n",
       "      <td>Armavir</td>\n",
       "      <td>Gasoline</td>\n",
       "      <td>466000</td>\n",
       "      <td>4000</td>\n",
       "    </tr>\n",
       "    <tr>\n",
       "      <th>3</th>\n",
       "      <td>Mazda 6</td>\n",
       "      <td>2020</td>\n",
       "      <td>Nor Nork</td>\n",
       "      <td>Gasoline</td>\n",
       "      <td>100000</td>\n",
       "      <td>22000</td>\n",
       "    </tr>\n",
       "    <tr>\n",
       "      <th>4</th>\n",
       "      <td>Opel Vectra</td>\n",
       "      <td>1998</td>\n",
       "      <td>Armavir</td>\n",
       "      <td>Gasoline</td>\n",
       "      <td>318000</td>\n",
       "      <td>3500</td>\n",
       "    </tr>\n",
       "  </tbody>\n",
       "</table>\n",
       "</div>"
      ],
      "text/plain": [
       "       Car Name  Year    Region  FuelType  Mileage  Price\n",
       "0  Ford Transit  2002     Goris    Diesel   215000  12000\n",
       "1    Ford Focus  2017    Ijevan  Gasoline    72000  11500\n",
       "2   Opel Vectra  1998   Armavir  Gasoline   466000   4000\n",
       "3       Mazda 6  2020  Nor Nork  Gasoline   100000  22000\n",
       "4   Opel Vectra  1998   Armavir  Gasoline   318000   3500"
      ]
     },
     "execution_count": 20,
     "metadata": {},
     "output_type": "execute_result"
    }
   ],
   "source": [
    "# see 5 first rows of the dataset\n",
    "df.head()"
   ]
  },
  {
   "cell_type": "code",
   "execution_count": 21,
   "id": "8560796d",
   "metadata": {},
   "outputs": [
    {
     "data": {
      "text/plain": [
       "Car Name      object\n",
       "Year           int64\n",
       "Region        object\n",
       "FuelType    category\n",
       "Mileage        int64\n",
       "Price          int64\n",
       "dtype: object"
      ]
     },
     "execution_count": 21,
     "metadata": {},
     "output_type": "execute_result"
    }
   ],
   "source": [
    "# conversion type to categorical\n",
    "from pandas.api.types import CategoricalDtype\n",
    "categorical_type = CategoricalDtype(['Gasoline','Hybrid','Diesel','Electric'],ordered=True)\n",
    "\n",
    "df['FuelType'] = df['FuelType'].astype(categorical_type)\n",
    "df.dtypes"
   ]
  },
  {
   "cell_type": "code",
   "execution_count": 22,
   "id": "c28b5e2c",
   "metadata": {},
   "outputs": [
    {
     "data": {
      "text/plain": [
       "['Gasoline', 'Hybrid', 'Diesel', 'Electric']\n",
       "Categories (4, object): ['Gasoline' < 'Hybrid' < 'Diesel' < 'Electric']"
      ]
     },
     "execution_count": 22,
     "metadata": {},
     "output_type": "execute_result"
    }
   ],
   "source": [
    "# check\n",
    "df['FuelType'].sort_values().unique() "
   ]
  },
  {
   "cell_type": "code",
   "execution_count": 23,
   "id": "abfa0e11",
   "metadata": {},
   "outputs": [
    {
     "data": {
      "text/plain": [
       "LabelEncoder()"
      ]
     },
     "execution_count": 23,
     "metadata": {},
     "output_type": "execute_result"
    }
   ],
   "source": [
    "data_LE = df['FuelType'].sort_values().unique()\n",
    "\n",
    "from sklearn.preprocessing import LabelEncoder\n",
    "LE = LabelEncoder()\n",
    "LE.fit(data_LE)"
   ]
  },
  {
   "cell_type": "code",
   "execution_count": 24,
   "id": "469f6c4b",
   "metadata": {},
   "outputs": [
    {
     "data": {
      "text/plain": [
       "array(['Diesel', 'Electric', 'Gasoline', 'Hybrid'], dtype=object)"
      ]
     },
     "execution_count": 24,
     "metadata": {},
     "output_type": "execute_result"
    }
   ],
   "source": [
    "# check the ordered categories\n",
    "LE.classes_ "
   ]
  },
  {
   "cell_type": "code",
   "execution_count": 25,
   "id": "f1dc62ca",
   "metadata": {},
   "outputs": [
    {
     "data": {
      "text/plain": [
       "Car Name      object\n",
       "Year           int64\n",
       "Region        object\n",
       "FuelType    category\n",
       "Mileage        int64\n",
       "Price          int64\n",
       "dtype: object"
      ]
     },
     "execution_count": 25,
     "metadata": {},
     "output_type": "execute_result"
    }
   ],
   "source": [
    "# recheck dtpyes\n",
    "df.dtypes "
   ]
  },
  {
   "cell_type": "markdown",
   "id": "748045ea",
   "metadata": {},
   "source": [
    "### i have a problem\n",
    "i want to transform the FuelType data colum with:\n",
    "\n",
    "Gasoline = 0\n",
    "\n",
    "HyBrid = 1\n",
    "\n",
    "Diesel = 2\n",
    "\n",
    "Electric = 3\n",
    "\n",
    "but i cant do that with Label Encoder, there for i decided to transform data manually\n",
    "\n",
    "#### if you know, you can solve this problem and make pull request in my github"
   ]
  },
  {
   "cell_type": "code",
   "execution_count": 26,
   "id": "6a614eaa",
   "metadata": {},
   "outputs": [],
   "source": [
    "# make a function for transform FuelType colum\n",
    "def FuelTypeTransform(data):\n",
    "    result = []\n",
    "    for d in data:\n",
    "        if d == 'Gasoline':\n",
    "            result.append(0)\n",
    "        elif d == 'Hybrid':\n",
    "            result.append(1)\n",
    "        elif d == 'Diesel':\n",
    "            result.append(2)\n",
    "        elif d == 'Electric':\n",
    "            result.append(3)\n",
    "        else :\n",
    "            result.append('-')\n",
    "    return result\n",
    "\n",
    "# make function for return transform of FuelType colum\n",
    "def FuelTypeInverse(data):\n",
    "    result = []\n",
    "    for d in data:\n",
    "        if d == 0:\n",
    "            result.append('Gasoline')\n",
    "        elif d == 1:\n",
    "            result.append('Hyrid')\n",
    "        elif d == 2:\n",
    "            result.append('Diesel')\n",
    "        elif d == 3:\n",
    "            result.append('Electric')\n",
    "        else :\n",
    "            result.append('-')\n",
    "    return result"
   ]
  },
  {
   "cell_type": "code",
   "execution_count": 27,
   "id": "9f59aad7",
   "metadata": {},
   "outputs": [
    {
     "data": {
      "text/plain": [
       "[2, 0, 0, 0, 0]"
      ]
     },
     "execution_count": 27,
     "metadata": {},
     "output_type": "execute_result"
    }
   ],
   "source": [
    "# testing function\n",
    "test = FuelTypeTransform(df['FuelType'].head())\n",
    "test"
   ]
  },
  {
   "cell_type": "code",
   "execution_count": 28,
   "id": "387e7c3a",
   "metadata": {},
   "outputs": [
    {
     "data": {
      "text/plain": [
       "['Diesel', 'Gasoline', 'Gasoline', 'Gasoline', 'Gasoline']"
      ]
     },
     "execution_count": 28,
     "metadata": {},
     "output_type": "execute_result"
    }
   ],
   "source": [
    "FuelTypeInverse(test)"
   ]
  },
  {
   "cell_type": "code",
   "execution_count": 29,
   "id": "d1132416",
   "metadata": {},
   "outputs": [
    {
     "data": {
      "text/plain": [
       "0      Diesel\n",
       "1    Gasoline\n",
       "2    Gasoline\n",
       "3    Gasoline\n",
       "4    Gasoline\n",
       "Name: FuelType, dtype: category\n",
       "Categories (4, object): ['Gasoline' < 'Hybrid' < 'Diesel' < 'Electric']"
      ]
     },
     "execution_count": 29,
     "metadata": {},
     "output_type": "execute_result"
    }
   ],
   "source": [
    "# check result function\n",
    "df['FuelType'].head() "
   ]
  },
  {
   "cell_type": "code",
   "execution_count": 30,
   "id": "618e0ea8",
   "metadata": {},
   "outputs": [],
   "source": [
    "# execute the function\n",
    "df['FuelType'] = FuelTypeTransform(df['FuelType'])"
   ]
  },
  {
   "cell_type": "code",
   "execution_count": 31,
   "id": "074e6e2f",
   "metadata": {},
   "outputs": [
    {
     "data": {
      "text/html": [
       "<div>\n",
       "<style scoped>\n",
       "    .dataframe tbody tr th:only-of-type {\n",
       "        vertical-align: middle;\n",
       "    }\n",
       "\n",
       "    .dataframe tbody tr th {\n",
       "        vertical-align: top;\n",
       "    }\n",
       "\n",
       "    .dataframe thead th {\n",
       "        text-align: right;\n",
       "    }\n",
       "</style>\n",
       "<table border=\"1\" class=\"dataframe\">\n",
       "  <thead>\n",
       "    <tr style=\"text-align: right;\">\n",
       "      <th></th>\n",
       "      <th>Car Name</th>\n",
       "      <th>Year</th>\n",
       "      <th>Region</th>\n",
       "      <th>FuelType</th>\n",
       "      <th>Mileage</th>\n",
       "      <th>Price</th>\n",
       "    </tr>\n",
       "  </thead>\n",
       "  <tbody>\n",
       "    <tr>\n",
       "      <th>0</th>\n",
       "      <td>Ford Transit</td>\n",
       "      <td>2002</td>\n",
       "      <td>Goris</td>\n",
       "      <td>2</td>\n",
       "      <td>215000</td>\n",
       "      <td>12000</td>\n",
       "    </tr>\n",
       "    <tr>\n",
       "      <th>1</th>\n",
       "      <td>Ford Focus</td>\n",
       "      <td>2017</td>\n",
       "      <td>Ijevan</td>\n",
       "      <td>0</td>\n",
       "      <td>72000</td>\n",
       "      <td>11500</td>\n",
       "    </tr>\n",
       "    <tr>\n",
       "      <th>2</th>\n",
       "      <td>Opel Vectra</td>\n",
       "      <td>1998</td>\n",
       "      <td>Armavir</td>\n",
       "      <td>0</td>\n",
       "      <td>466000</td>\n",
       "      <td>4000</td>\n",
       "    </tr>\n",
       "    <tr>\n",
       "      <th>3</th>\n",
       "      <td>Mazda 6</td>\n",
       "      <td>2020</td>\n",
       "      <td>Nor Nork</td>\n",
       "      <td>0</td>\n",
       "      <td>100000</td>\n",
       "      <td>22000</td>\n",
       "    </tr>\n",
       "    <tr>\n",
       "      <th>4</th>\n",
       "      <td>Opel Vectra</td>\n",
       "      <td>1998</td>\n",
       "      <td>Armavir</td>\n",
       "      <td>0</td>\n",
       "      <td>318000</td>\n",
       "      <td>3500</td>\n",
       "    </tr>\n",
       "  </tbody>\n",
       "</table>\n",
       "</div>"
      ],
      "text/plain": [
       "       Car Name  Year    Region  FuelType  Mileage  Price\n",
       "0  Ford Transit  2002     Goris         2   215000  12000\n",
       "1    Ford Focus  2017    Ijevan         0    72000  11500\n",
       "2   Opel Vectra  1998   Armavir         0   466000   4000\n",
       "3       Mazda 6  2020  Nor Nork         0   100000  22000\n",
       "4   Opel Vectra  1998   Armavir         0   318000   3500"
      ]
     },
     "execution_count": 31,
     "metadata": {},
     "output_type": "execute_result"
    }
   ],
   "source": [
    "# check\n",
    "df.head() "
   ]
  },
  {
   "cell_type": "code",
   "execution_count": 32,
   "id": "b731f2db",
   "metadata": {},
   "outputs": [
    {
     "data": {
      "text/plain": [
       "['Verin Ptghni',\n",
       " 'Goris',\n",
       " 'Ashotsk',\n",
       " 'Surenavan',\n",
       " 'Germany',\n",
       " 'Aramus',\n",
       " 'Katnaghbyur',\n",
       " 'Odzun',\n",
       " 'Kanachut',\n",
       " 'Nizami']"
      ]
     },
     "execution_count": 32,
     "metadata": {},
     "output_type": "execute_result"
    }
   ],
   "source": [
    "# make ordered data of Region bases on average price\n",
    "avrg_price_by_region = df.groupby(['Region'])['Price'].mean().sort_values(ascending=True)\n",
    "ordered_region = avrg_price_by_region.index.tolist()\n",
    "ordered_region[-10:]"
   ]
  },
  {
   "cell_type": "code",
   "execution_count": 33,
   "id": "029fd7f0",
   "metadata": {},
   "outputs": [],
   "source": [
    "# make a function for transform Region colum\n",
    "def RegionTransform(data):\n",
    "    result = []\n",
    "    for d in data:\n",
    "        if d in ordered_region:\n",
    "            result.append(ordered_region.index(d))\n",
    "        else:\n",
    "            result.append('-')\n",
    "    return result\n",
    "\n",
    "# make function for return transform of Region colum\n",
    "def RegionInverse(data):\n",
    "    result = []\n",
    "    for d in data:\n",
    "        result.append(ordered_region[d])\n",
    "    return result"
   ]
  },
  {
   "cell_type": "code",
   "execution_count": 34,
   "id": "32d4b290",
   "metadata": {},
   "outputs": [
    {
     "data": {
      "text/plain": [
       "[186, 128, 155, 151, 155]"
      ]
     },
     "execution_count": 34,
     "metadata": {},
     "output_type": "execute_result"
    }
   ],
   "source": [
    "# test function\n",
    "test = RegionTransform(df['Region'].head())\n",
    "test"
   ]
  },
  {
   "cell_type": "code",
   "execution_count": 35,
   "id": "fe7d066f",
   "metadata": {},
   "outputs": [
    {
     "data": {
      "text/plain": [
       "['Goris', 'Ijevan', 'Armavir', 'Nor Nork', 'Armavir']"
      ]
     },
     "execution_count": 35,
     "metadata": {},
     "output_type": "execute_result"
    }
   ],
   "source": [
    "RegionInverse(test)"
   ]
  },
  {
   "cell_type": "code",
   "execution_count": 36,
   "id": "7afaedcf",
   "metadata": {},
   "outputs": [
    {
     "data": {
      "text/plain": [
       "0       Goris\n",
       "1      Ijevan\n",
       "2     Armavir\n",
       "3    Nor Nork\n",
       "4     Armavir\n",
       "Name: Region, dtype: object"
      ]
     },
     "execution_count": 36,
     "metadata": {},
     "output_type": "execute_result"
    }
   ],
   "source": [
    "# check function result\n",
    "df['Region'].head()"
   ]
  },
  {
   "cell_type": "code",
   "execution_count": 37,
   "id": "3b195cc7",
   "metadata": {},
   "outputs": [],
   "source": [
    "# execute function\n",
    "df['Region'] = RegionTransform(df['Region'])"
   ]
  },
  {
   "cell_type": "code",
   "execution_count": 38,
   "id": "daa525e7",
   "metadata": {},
   "outputs": [
    {
     "data": {
      "text/html": [
       "<div>\n",
       "<style scoped>\n",
       "    .dataframe tbody tr th:only-of-type {\n",
       "        vertical-align: middle;\n",
       "    }\n",
       "\n",
       "    .dataframe tbody tr th {\n",
       "        vertical-align: top;\n",
       "    }\n",
       "\n",
       "    .dataframe thead th {\n",
       "        text-align: right;\n",
       "    }\n",
       "</style>\n",
       "<table border=\"1\" class=\"dataframe\">\n",
       "  <thead>\n",
       "    <tr style=\"text-align: right;\">\n",
       "      <th></th>\n",
       "      <th>Car Name</th>\n",
       "      <th>Year</th>\n",
       "      <th>Region</th>\n",
       "      <th>FuelType</th>\n",
       "      <th>Mileage</th>\n",
       "      <th>Price</th>\n",
       "    </tr>\n",
       "  </thead>\n",
       "  <tbody>\n",
       "    <tr>\n",
       "      <th>0</th>\n",
       "      <td>Ford Transit</td>\n",
       "      <td>2002</td>\n",
       "      <td>186</td>\n",
       "      <td>2</td>\n",
       "      <td>215000</td>\n",
       "      <td>12000</td>\n",
       "    </tr>\n",
       "    <tr>\n",
       "      <th>1</th>\n",
       "      <td>Ford Focus</td>\n",
       "      <td>2017</td>\n",
       "      <td>128</td>\n",
       "      <td>0</td>\n",
       "      <td>72000</td>\n",
       "      <td>11500</td>\n",
       "    </tr>\n",
       "    <tr>\n",
       "      <th>2</th>\n",
       "      <td>Opel Vectra</td>\n",
       "      <td>1998</td>\n",
       "      <td>155</td>\n",
       "      <td>0</td>\n",
       "      <td>466000</td>\n",
       "      <td>4000</td>\n",
       "    </tr>\n",
       "    <tr>\n",
       "      <th>3</th>\n",
       "      <td>Mazda 6</td>\n",
       "      <td>2020</td>\n",
       "      <td>151</td>\n",
       "      <td>0</td>\n",
       "      <td>100000</td>\n",
       "      <td>22000</td>\n",
       "    </tr>\n",
       "    <tr>\n",
       "      <th>4</th>\n",
       "      <td>Opel Vectra</td>\n",
       "      <td>1998</td>\n",
       "      <td>155</td>\n",
       "      <td>0</td>\n",
       "      <td>318000</td>\n",
       "      <td>3500</td>\n",
       "    </tr>\n",
       "  </tbody>\n",
       "</table>\n",
       "</div>"
      ],
      "text/plain": [
       "       Car Name  Year  Region  FuelType  Mileage  Price\n",
       "0  Ford Transit  2002     186         2   215000  12000\n",
       "1    Ford Focus  2017     128         0    72000  11500\n",
       "2   Opel Vectra  1998     155         0   466000   4000\n",
       "3       Mazda 6  2020     151         0   100000  22000\n",
       "4   Opel Vectra  1998     155         0   318000   3500"
      ]
     },
     "execution_count": 38,
     "metadata": {},
     "output_type": "execute_result"
    }
   ],
   "source": [
    "# check final dataset after data cleaning\n",
    "df.head() "
   ]
  },
  {
   "cell_type": "markdown",
   "id": "90c3f5ce",
   "metadata": {},
   "source": [
    "# splitting data"
   ]
  },
  {
   "cell_type": "code",
   "execution_count": 39,
   "id": "e47fd0a1",
   "metadata": {},
   "outputs": [],
   "source": [
    "# split the feature and label\n",
    "X = df[importand_colum]\n",
    "y = df['Price']"
   ]
  },
  {
   "cell_type": "code",
   "execution_count": 40,
   "id": "948bc3f9",
   "metadata": {},
   "outputs": [],
   "source": [
    "# splitting data\n",
    "from sklearn.model_selection import train_test_split\n",
    "X_train, X_test, y_train, y_test = train_test_split(X,y,\n",
    "                                                    test_size=0.2,\n",
    "                                                    random_state=42)"
   ]
  },
  {
   "cell_type": "code",
   "execution_count": 41,
   "id": "9208d268",
   "metadata": {},
   "outputs": [
    {
     "data": {
      "text/plain": [
       "((6388, 3), (1598, 3))"
      ]
     },
     "execution_count": 41,
     "metadata": {},
     "output_type": "execute_result"
    }
   ],
   "source": [
    "# check proportion of data\n",
    "X_train.shape, X_test.shape"
   ]
  },
  {
   "cell_type": "markdown",
   "id": "53127b09",
   "metadata": {},
   "source": [
    "# feature engineering"
   ]
  },
  {
   "cell_type": "code",
   "execution_count": 42,
   "id": "4c425fd5",
   "metadata": {},
   "outputs": [],
   "source": [
    "# make the scaler function with scikit learn\n",
    "from sklearn.preprocessing import MinMaxScaler\n",
    "scaler = MinMaxScaler(feature_range=(0,10))"
   ]
  },
  {
   "cell_type": "code",
   "execution_count": 43,
   "id": "c5eb72d7",
   "metadata": {},
   "outputs": [
    {
     "data": {
      "text/plain": [
       "array([[0.00000000e+00, 7.87564767e+00, 3.49903499e-01],\n",
       "       [0.00000000e+00, 6.32124352e+00, 1.77991780e+00],\n",
       "       [0.00000000e+00, 5.75129534e+00, 2.89992900e+00],\n",
       "       ...,\n",
       "       [0.00000000e+00, 5.75129534e+00, 2.64002640e-02],\n",
       "       [0.00000000e+00, 5.95854922e+00, 1.74901749e-01],\n",
       "       [0.00000000e+00, 9.79274611e+00, 8.00008000e-05]])"
      ]
     },
     "execution_count": 43,
     "metadata": {},
     "output_type": "execute_result"
    }
   ],
   "source": [
    "# fit and transform feature\n",
    "X_train_scaled = scaler.fit_transform(X_train)\n",
    "X_train_scaled"
   ]
  },
  {
   "cell_type": "code",
   "execution_count": 44,
   "id": "a0769f18",
   "metadata": {},
   "outputs": [],
   "source": [
    "# transform X_test\n",
    "y_train_scaled = scaler.fit_transform(X_test)"
   ]
  },
  {
   "cell_type": "markdown",
   "id": "df92b1ec",
   "metadata": {},
   "source": [
    "# modelling"
   ]
  },
  {
   "cell_type": "code",
   "execution_count": 45,
   "id": "76be37a6",
   "metadata": {},
   "outputs": [
    {
     "name": "stdout",
     "output_type": "stream",
     "text": [
      "Best param : {'copy_X': True, 'fit_intercept': True, 'n_jobs': -1, 'normalize': True}\n"
     ]
    }
   ],
   "source": [
    "# hyperparameter tuning\n",
    "from sklearn.model_selection import GridSearchCV\n",
    "from sklearn.linear_model import LinearRegression\n",
    "\n",
    "param_grid = {'copy_X':[True,False],\n",
    "              'fit_intercept': [True, False],\n",
    "              'normalize': [True, False],\n",
    "             'n_jobs':[-1,1,2,3]}\n",
    "grid = GridSearchCV(estimator=LinearRegression(), param_grid=param_grid, scoring='r2', cv=5)\n",
    "grid.fit(X_train,y_train)\n",
    "print(f'Best param : {grid.best_params_}')"
   ]
  },
  {
   "cell_type": "code",
   "execution_count": 51,
   "id": "3e5a9e60",
   "metadata": {},
   "outputs": [
    {
     "data": {
      "text/plain": [
       "LinearRegression(fit_intercept={'copy_X': True, 'fit_intercept': True,\n",
       "                                'n_jobs': -1, 'normalize': True})"
      ]
     },
     "execution_count": 51,
     "metadata": {},
     "output_type": "execute_result"
    }
   ],
   "source": [
    "# make and fit model function\n",
    "model = LinearRegression(grid.best_params_)\n",
    "model.fit(X_train,y_train)"
   ]
  },
  {
   "cell_type": "markdown",
   "id": "b5f9ba8a",
   "metadata": {},
   "source": [
    "# testing and evaluation model"
   ]
  },
  {
   "cell_type": "code",
   "execution_count": 52,
   "id": "14f7382d",
   "metadata": {},
   "outputs": [
    {
     "data": {
      "text/html": [
       "<div>\n",
       "<style scoped>\n",
       "    .dataframe tbody tr th:only-of-type {\n",
       "        vertical-align: middle;\n",
       "    }\n",
       "\n",
       "    .dataframe tbody tr th {\n",
       "        vertical-align: top;\n",
       "    }\n",
       "\n",
       "    .dataframe thead th {\n",
       "        text-align: right;\n",
       "    }\n",
       "</style>\n",
       "<table border=\"1\" class=\"dataframe\">\n",
       "  <thead>\n",
       "    <tr style=\"text-align: right;\">\n",
       "      <th></th>\n",
       "      <th>y_test</th>\n",
       "      <th>y_pred</th>\n",
       "    </tr>\n",
       "  </thead>\n",
       "  <tbody>\n",
       "    <tr>\n",
       "      <th>5209</th>\n",
       "      <td>5700</td>\n",
       "      <td>12134.643261</td>\n",
       "    </tr>\n",
       "    <tr>\n",
       "      <th>1055</th>\n",
       "      <td>14500</td>\n",
       "      <td>18476.278096</td>\n",
       "    </tr>\n",
       "    <tr>\n",
       "      <th>7861</th>\n",
       "      <td>19500</td>\n",
       "      <td>7245.038383</td>\n",
       "    </tr>\n",
       "    <tr>\n",
       "      <th>1732</th>\n",
       "      <td>17500</td>\n",
       "      <td>18576.300290</td>\n",
       "    </tr>\n",
       "    <tr>\n",
       "      <th>6063</th>\n",
       "      <td>12000</td>\n",
       "      <td>17086.690821</td>\n",
       "    </tr>\n",
       "    <tr>\n",
       "      <th>7426</th>\n",
       "      <td>44000</td>\n",
       "      <td>26086.638384</td>\n",
       "    </tr>\n",
       "    <tr>\n",
       "      <th>1084</th>\n",
       "      <td>8000</td>\n",
       "      <td>18110.067807</td>\n",
       "    </tr>\n",
       "    <tr>\n",
       "      <th>2549</th>\n",
       "      <td>15000</td>\n",
       "      <td>17337.814103</td>\n",
       "    </tr>\n",
       "    <tr>\n",
       "      <th>3964</th>\n",
       "      <td>14000</td>\n",
       "      <td>14166.308469</td>\n",
       "    </tr>\n",
       "    <tr>\n",
       "      <th>2298</th>\n",
       "      <td>3400</td>\n",
       "      <td>17356.779215</td>\n",
       "    </tr>\n",
       "  </tbody>\n",
       "</table>\n",
       "</div>"
      ],
      "text/plain": [
       "      y_test        y_pred\n",
       "5209    5700  12134.643261\n",
       "1055   14500  18476.278096\n",
       "7861   19500   7245.038383\n",
       "1732   17500  18576.300290\n",
       "6063   12000  17086.690821\n",
       "7426   44000  26086.638384\n",
       "1084    8000  18110.067807\n",
       "2549   15000  17337.814103\n",
       "3964   14000  14166.308469\n",
       "2298    3400  17356.779215"
      ]
     },
     "execution_count": 52,
     "metadata": {},
     "output_type": "execute_result"
    }
   ],
   "source": [
    "# make a dataframe of testing result\n",
    "y_pred = model.predict(X_test)\n",
    "\n",
    "df_eval = pd.DataFrame({'y_test':y_test,\n",
    "                       'y_pred':y_pred})\n",
    "df_eval.head(10)"
   ]
  },
  {
   "cell_type": "code",
   "execution_count": 48,
   "id": "b04e56dd",
   "metadata": {},
   "outputs": [
    {
     "name": "stdout",
     "output_type": "stream",
     "text": [
      "MAE : 9893.979481555078\n",
      "MSE : 382772369.002781\n"
     ]
    }
   ],
   "source": [
    "# evaluasi model with MAE & MSE\n",
    "from sklearn.metrics import mean_absolute_error, mean_squared_error\n",
    "\n",
    "mae = mean_absolute_error(y_test,y_pred)\n",
    "mse = mean_squared_error(y_test,y_pred)\n",
    "\n",
    "print(f'MAE : {mae}')\n",
    "print(f'MSE : {mse}')"
   ]
  }
 ],
 "metadata": {
  "celltoolbar": "Slideshow",
  "kernelspec": {
   "display_name": "Python [conda env:myenv] *",
   "language": "python",
   "name": "conda-env-myenv-py"
  },
  "language_info": {
   "codemirror_mode": {
    "name": "ipython",
    "version": 3
   },
   "file_extension": ".py",
   "mimetype": "text/x-python",
   "name": "python",
   "nbconvert_exporter": "python",
   "pygments_lexer": "ipython3",
   "version": "3.6.13"
  }
 },
 "nbformat": 4,
 "nbformat_minor": 5
}
